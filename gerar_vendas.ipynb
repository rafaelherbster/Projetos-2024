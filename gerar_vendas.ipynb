{
  "nbformat": 4,
  "nbformat_minor": 0,
  "metadata": {
    "colab": {
      "provenance": [],
      "authorship_tag": "ABX9TyNAFueWZ8jMh/0+SzA/kDa8",
      "include_colab_link": true
    },
    "kernelspec": {
      "name": "python3",
      "display_name": "Python 3"
    },
    "language_info": {
      "name": "python"
    }
  },
  "cells": [
    {
      "cell_type": "markdown",
      "metadata": {
        "id": "view-in-github",
        "colab_type": "text"
      },
      "source": [
        "<a href=\"https://colab.research.google.com/github/rafaelherbster/Projetos-2024/blob/main/gerar_vendas.ipynb\" target=\"_parent\"><img src=\"https://colab.research.google.com/assets/colab-badge.svg\" alt=\"Open In Colab\"/></a>"
      ]
    },
    {
      "cell_type": "code",
      "source": [
        "!pip install xlsxwriter\n"
      ],
      "metadata": {
        "colab": {
          "base_uri": "https://localhost:8080/"
        },
        "id": "v2AeGvZUtwBU",
        "outputId": "52583750-e502-470d-ce4e-6c636ee6d310"
      },
      "execution_count": 67,
      "outputs": [
        {
          "output_type": "stream",
          "name": "stdout",
          "text": [
            "Requirement already satisfied: xlsxwriter in /usr/local/lib/python3.11/dist-packages (3.2.2)\n"
          ]
        }
      ]
    },
    {
      "cell_type": "code",
      "source": [
        "import pandas as pd\n",
        "import random\n",
        "from datetime import datetime, timedelta\n",
        "from google.colab import files"
      ],
      "metadata": {
        "id": "nrCh5hIuZBq_"
      },
      "execution_count": 120,
      "outputs": []
    },
    {
      "cell_type": "code",
      "execution_count": 121,
      "metadata": {
        "id": "CbShGQqWY7If"
      },
      "outputs": [],
      "source": [
        "modelos_carros = [\n",
        "    {\"Marca\": \"Volkswagen\", \"Modelo\": \"Polo\" },\n",
        "    {\"Marca\": \"Fiat\", \"Modelo\": \"Strada\" },\n",
        "    {\"Marca\": \"Chevrolet\", \"Modelo\": \"Onix\" },\n",
        "    {\"Marca\": \"Hyundai\", \"Modelo\": \"HB20\" },\n",
        "    {\"Marca\": \"GM\", \"Modelo\": \"Onix\" },\n",
        "    {\"Marca\": \"Fiat\", \"Modelo\": \"Argo\" },\n",
        "    {\"Marca\": \"GM\", \"Modelo\": \"Onix Plus\" },\n",
        "    {\"Marca\": \"Fiat\", \"Modelo\": \"Mobi\" },\n",
        "    {\"Marca\": \"Volkswagen\", \"Modelo\": \"T-Cross\" },\n",
        "    {\"Marca\": \"Hyundai\", \"Modelo\": \"Creta\" },\n",
        "]"
      ]
    },
    {
      "cell_type": "code",
      "source": [
        "filiais = [\n",
        "    {\"ID_Filial\": 660001, \"Cidade\": \"Fortaleza\", \"Estado\": \"Ceará\", \"ID_Regiao\": 88001},\n",
        "    {\"ID_Filial\": 660002, \"Cidade\": \"São Bernardo do Campo\", \"Estado\": \"São Paulo\", \"ID_Regiao\": 88002},\n",
        "    {\"ID_Filial\": 660003, \"Cidade\": \"Rio de Janeiro\", \"Estado\": \"Rio de Janeiro\", \"ID_Regiao\": 88003},\n",
        "    {\"ID_Filial\": 660004, \"Cidade\": \"Curitiba\", \"Estado\": \"Paraná\", \"ID_Regiao\": 88004}\n",
        "]"
      ],
      "metadata": {
        "id": "hjgZFbCfZO0W"
      },
      "execution_count": 122,
      "outputs": []
    },
    {
      "cell_type": "code",
      "source": [
        "generos = [\n",
        "  {\"ID_gen\":990001, \"Gen\": \"Masculino\"},\n",
        "  {\"ID_gen\":990002, \"Gen\": \"Feminino\"},\n",
        "  {\"ID_gen\":990003, \"Gen\": \"Outro\"}\n",
        "\n",
        "]"
      ],
      "metadata": {
        "id": "3yEnX07XcENK"
      },
      "execution_count": 123,
      "outputs": []
    },
    {
      "cell_type": "code",
      "source": [
        "produtos = [\n",
        "    {\"ID_Produto\": 330001, \"Marca\": \"Volkswagen\", \"Modelo\": \"Polo\", \"Categoria\": \"Novo\", \"Custo_Unitario\": 60000.00, \"Margem_Lucro\": 0.25, \"Preco_Venda\": 75000.00},\n",
        "    {\"ID_Produto\": 330002, \"Marca\": \"Fiat\", \"Modelo\": \"Strada\", \"Categoria\": \"Novo\", \"Custo_Unitario\": 55000.00, \"Margem_Lucro\": 0.23, \"Preco_Venda\": 68000.00},\n",
        "    {\"ID_Produto\": 330003, \"Marca\": \"Chevrolet\", \"Modelo\": \"Onix\", \"Categoria\": \"Novo\", \"Custo_Unitario\": 65000.00, \"Margem_Lucro\": 0.26, \"Preco_Venda\": 82000.00},\n",
        "    {\"ID_Produto\": 330004, \"Marca\": \"Hyundai\", \"Modelo\": \"HB20\", \"Categoria\": \"Novo\", \"Custo_Unitario\": 72000.00, \"Margem_Lucro\": 0.25, \"Preco_Venda\": 90000.00},\n",
        "    {\"ID_Produto\": 330005, \"Marca\": \"GM\", \"Modelo\": \"Onix\", \"Categoria\": \"Novo\", \"Custo_Unitario\": 62000.00, \"Margem_Lucro\": 0.25, \"Preco_Venda\": 78000.00},\n",
        "    {\"ID_Produto\": 330006, \"Marca\": \"Fiat\", \"Modelo\": \"Argo\", \"Categoria\": \"Novo\", \"Custo_Unitario\": 58000.00, \"Margem_Lucro\": 0.24, \"Preco_Venda\": 72000.00},\n",
        "    {\"ID_Produto\": 330007, \"Marca\": \"GM\", \"Modelo\": \"Onix Plus\", \"Categoria\": \"Novo\", \"Custo_Unitario\": 70000.00, \"Margem_Lucro\": 0.25, \"Preco_Venda\": 87500.00},\n",
        "    {\"ID_Produto\": 330008, \"Marca\": \"Fiat\", \"Modelo\": \"Mobi\", \"Categoria\": \"Novo\", \"Custo_Unitario\": 50000.00, \"Margem_Lucro\": 0.22, \"Preco_Venda\": 61000.00},\n",
        "    {\"ID_Produto\": 330009, \"Marca\": \"Volkswagen\", \"Modelo\": \"T-Cross\", \"Categoria\": \"Novo\", \"Custo_Unitario\": 85000.00, \"Margem_Lucro\": 0.26, \"Preco_Venda\": 107000.00},\n",
        "    {\"ID_Produto\": 330010, \"Marca\": \"Hyundai\", \"Modelo\": \"Creta\", \"Categoria\": \"Novo\", \"Custo_Unitario\": 90000.00, \"Margem_Lucro\": 0.27, \"Preco_Venda\": 114000.00}\n",
        "]"
      ],
      "metadata": {
        "id": "ZQdCE0kOaNgE"
      },
      "execution_count": 124,
      "outputs": []
    },
    {
      "cell_type": "code",
      "source": [
        "def gerar_data_aleatoria():\n",
        "    inicio_ano = datetime(2024, 1, 1)\n",
        "    fim_ano = datetime(2024, 12, 31)\n",
        "    delta = fim_ano - inicio_ano\n",
        "    dias_aleatorios = random.randint(0, delta.days)\n",
        "    return inicio_ano + timedelta(days=dias_aleatorios)"
      ],
      "metadata": {
        "id": "N4xhlVkQac_O"
      },
      "execution_count": 125,
      "outputs": []
    },
    {
      "cell_type": "code",
      "source": [
        "clientes = []\n",
        "for i in range(1, 41):\n",
        "    id_cliente = 550000 + i\n",
        "    genero = random.choice(generos)\n",
        "    idade = random.randint(25, 65)  # idade do cliente\n",
        "    local = random.choice(filiais)\n",
        "    cliente = {\n",
        "        \"ID_Cliente\" : id_cliente,\n",
        "        \"Genero\" : genero[\"Gen\"],\n",
        "        \"Idade\" : idade,\n",
        "        \"Cidade\" : local[\"Cidade\"],\n",
        "        \"Estado\" : local['Estado']\n",
        "    }\n",
        "    clientes.append(cliente)\n",
        ""
      ],
      "metadata": {
        "id": "yZfDpXOGa2vj"
      },
      "execution_count": 126,
      "outputs": []
    },
    {
      "cell_type": "code",
      "source": [
        "vendas = []\n",
        "for i in range(1, 151):\n",
        "    id_venda = 220000 + i\n",
        "    data_venda = gerar_data_aleatoria().strftime(\"%Y-%m-%d\")\n",
        "    cliente = random.choice(clientes)\n",
        "    produto = random.choice(produtos)\n",
        "    filial = random.choice(filiais)\n",
        "    quantidade = random.randint(1, 3)  # Quantidade de carros vendidos (1 a 3)\n",
        "    valor_total = quantidade * produto[\"Preco_Venda\"]\n",
        "    venda = {\n",
        "        \"ID_Venda\": id_venda,\n",
        "        \"Data_Venda\": data_venda,\n",
        "        \"ID_Cliente\": cliente[\"ID_Cliente\"],\n",
        "        \"ID_Produto\": produto[\"ID_Produto\"],\n",
        "        \"Marca\": produto[\"Marca\"],\n",
        "        \"Modelo\": produto[\"Modelo\"],\n",
        "        \"ID_Filial\": filial[\"ID_Filial\"],\n",
        "        \"ID_Regiao\": filial[\"ID_Regiao\"],\n",
        "        \"Quantidade\": quantidade,\n",
        "        \"Valor_Unitario\": produto[\"Preco_Venda\"],\n",
        "        \"Valor_Total\": valor_total\n",
        "    }\n",
        "    vendas.append(venda)"
      ],
      "metadata": {
        "id": "ue9c1V0BajUZ"
      },
      "execution_count": 127,
      "outputs": []
    },
    {
      "cell_type": "code",
      "source": [
        "df_vendas = pd.DataFrame(vendas)\n",
        "df_clientes = pd.DataFrame(clientes)\n",
        "df_produtos = pd.DataFrame(produtos)\n",
        "df_modelos_carros = pd.DataFrame(modelos_carros)\n",
        "df_generos = pd.DataFrame(generos)\n",
        "df_filiais = pd.DataFrame(filiais)\n"
      ],
      "metadata": {
        "id": "DYwGGpWmjjXn"
      },
      "execution_count": 128,
      "outputs": []
    },
    {
      "cell_type": "code",
      "source": [
        "df_vendas.head()"
      ],
      "metadata": {
        "colab": {
          "base_uri": "https://localhost:8080/",
          "height": 206
        },
        "id": "i8WZjo5QxNtS",
        "outputId": "8bba8617-c413-42b9-e94b-b823429d4d80"
      },
      "execution_count": 129,
      "outputs": [
        {
          "output_type": "execute_result",
          "data": {
            "text/plain": [
              "   ID_Venda  Data_Venda  ID_Cliente  ID_Produto      Marca     Modelo  \\\n",
              "0    220001  2024-04-19      550022      330008       Fiat       Mobi   \n",
              "1    220002  2024-07-26      550039      330007         GM  Onix Plus   \n",
              "2    220003  2024-11-28      550021      330003  Chevrolet       Onix   \n",
              "3    220004  2024-09-05      550009      330008       Fiat       Mobi   \n",
              "4    220005  2024-09-25      550019      330005         GM       Onix   \n",
              "\n",
              "   ID_Filial  ID_Regiao  Quantidade  Valor_Unitario  Valor_Total  \n",
              "0     660002      88002           1         61000.0      61000.0  \n",
              "1     660004      88004           3         87500.0     262500.0  \n",
              "2     660001      88001           3         82000.0     246000.0  \n",
              "3     660003      88003           1         61000.0      61000.0  \n",
              "4     660001      88001           1         78000.0      78000.0  "
            ],
            "text/html": [
              "\n",
              "  <div id=\"df-616747d9-a96b-4b07-b4b4-aa3cf76d6ff0\" class=\"colab-df-container\">\n",
              "    <div>\n",
              "<style scoped>\n",
              "    .dataframe tbody tr th:only-of-type {\n",
              "        vertical-align: middle;\n",
              "    }\n",
              "\n",
              "    .dataframe tbody tr th {\n",
              "        vertical-align: top;\n",
              "    }\n",
              "\n",
              "    .dataframe thead th {\n",
              "        text-align: right;\n",
              "    }\n",
              "</style>\n",
              "<table border=\"1\" class=\"dataframe\">\n",
              "  <thead>\n",
              "    <tr style=\"text-align: right;\">\n",
              "      <th></th>\n",
              "      <th>ID_Venda</th>\n",
              "      <th>Data_Venda</th>\n",
              "      <th>ID_Cliente</th>\n",
              "      <th>ID_Produto</th>\n",
              "      <th>Marca</th>\n",
              "      <th>Modelo</th>\n",
              "      <th>ID_Filial</th>\n",
              "      <th>ID_Regiao</th>\n",
              "      <th>Quantidade</th>\n",
              "      <th>Valor_Unitario</th>\n",
              "      <th>Valor_Total</th>\n",
              "    </tr>\n",
              "  </thead>\n",
              "  <tbody>\n",
              "    <tr>\n",
              "      <th>0</th>\n",
              "      <td>220001</td>\n",
              "      <td>2024-04-19</td>\n",
              "      <td>550022</td>\n",
              "      <td>330008</td>\n",
              "      <td>Fiat</td>\n",
              "      <td>Mobi</td>\n",
              "      <td>660002</td>\n",
              "      <td>88002</td>\n",
              "      <td>1</td>\n",
              "      <td>61000.0</td>\n",
              "      <td>61000.0</td>\n",
              "    </tr>\n",
              "    <tr>\n",
              "      <th>1</th>\n",
              "      <td>220002</td>\n",
              "      <td>2024-07-26</td>\n",
              "      <td>550039</td>\n",
              "      <td>330007</td>\n",
              "      <td>GM</td>\n",
              "      <td>Onix Plus</td>\n",
              "      <td>660004</td>\n",
              "      <td>88004</td>\n",
              "      <td>3</td>\n",
              "      <td>87500.0</td>\n",
              "      <td>262500.0</td>\n",
              "    </tr>\n",
              "    <tr>\n",
              "      <th>2</th>\n",
              "      <td>220003</td>\n",
              "      <td>2024-11-28</td>\n",
              "      <td>550021</td>\n",
              "      <td>330003</td>\n",
              "      <td>Chevrolet</td>\n",
              "      <td>Onix</td>\n",
              "      <td>660001</td>\n",
              "      <td>88001</td>\n",
              "      <td>3</td>\n",
              "      <td>82000.0</td>\n",
              "      <td>246000.0</td>\n",
              "    </tr>\n",
              "    <tr>\n",
              "      <th>3</th>\n",
              "      <td>220004</td>\n",
              "      <td>2024-09-05</td>\n",
              "      <td>550009</td>\n",
              "      <td>330008</td>\n",
              "      <td>Fiat</td>\n",
              "      <td>Mobi</td>\n",
              "      <td>660003</td>\n",
              "      <td>88003</td>\n",
              "      <td>1</td>\n",
              "      <td>61000.0</td>\n",
              "      <td>61000.0</td>\n",
              "    </tr>\n",
              "    <tr>\n",
              "      <th>4</th>\n",
              "      <td>220005</td>\n",
              "      <td>2024-09-25</td>\n",
              "      <td>550019</td>\n",
              "      <td>330005</td>\n",
              "      <td>GM</td>\n",
              "      <td>Onix</td>\n",
              "      <td>660001</td>\n",
              "      <td>88001</td>\n",
              "      <td>1</td>\n",
              "      <td>78000.0</td>\n",
              "      <td>78000.0</td>\n",
              "    </tr>\n",
              "  </tbody>\n",
              "</table>\n",
              "</div>\n",
              "    <div class=\"colab-df-buttons\">\n",
              "\n",
              "  <div class=\"colab-df-container\">\n",
              "    <button class=\"colab-df-convert\" onclick=\"convertToInteractive('df-616747d9-a96b-4b07-b4b4-aa3cf76d6ff0')\"\n",
              "            title=\"Convert this dataframe to an interactive table.\"\n",
              "            style=\"display:none;\">\n",
              "\n",
              "  <svg xmlns=\"http://www.w3.org/2000/svg\" height=\"24px\" viewBox=\"0 -960 960 960\">\n",
              "    <path d=\"M120-120v-720h720v720H120Zm60-500h600v-160H180v160Zm220 220h160v-160H400v160Zm0 220h160v-160H400v160ZM180-400h160v-160H180v160Zm440 0h160v-160H620v160ZM180-180h160v-160H180v160Zm440 0h160v-160H620v160Z\"/>\n",
              "  </svg>\n",
              "    </button>\n",
              "\n",
              "  <style>\n",
              "    .colab-df-container {\n",
              "      display:flex;\n",
              "      gap: 12px;\n",
              "    }\n",
              "\n",
              "    .colab-df-convert {\n",
              "      background-color: #E8F0FE;\n",
              "      border: none;\n",
              "      border-radius: 50%;\n",
              "      cursor: pointer;\n",
              "      display: none;\n",
              "      fill: #1967D2;\n",
              "      height: 32px;\n",
              "      padding: 0 0 0 0;\n",
              "      width: 32px;\n",
              "    }\n",
              "\n",
              "    .colab-df-convert:hover {\n",
              "      background-color: #E2EBFA;\n",
              "      box-shadow: 0px 1px 2px rgba(60, 64, 67, 0.3), 0px 1px 3px 1px rgba(60, 64, 67, 0.15);\n",
              "      fill: #174EA6;\n",
              "    }\n",
              "\n",
              "    .colab-df-buttons div {\n",
              "      margin-bottom: 4px;\n",
              "    }\n",
              "\n",
              "    [theme=dark] .colab-df-convert {\n",
              "      background-color: #3B4455;\n",
              "      fill: #D2E3FC;\n",
              "    }\n",
              "\n",
              "    [theme=dark] .colab-df-convert:hover {\n",
              "      background-color: #434B5C;\n",
              "      box-shadow: 0px 1px 3px 1px rgba(0, 0, 0, 0.15);\n",
              "      filter: drop-shadow(0px 1px 2px rgba(0, 0, 0, 0.3));\n",
              "      fill: #FFFFFF;\n",
              "    }\n",
              "  </style>\n",
              "\n",
              "    <script>\n",
              "      const buttonEl =\n",
              "        document.querySelector('#df-616747d9-a96b-4b07-b4b4-aa3cf76d6ff0 button.colab-df-convert');\n",
              "      buttonEl.style.display =\n",
              "        google.colab.kernel.accessAllowed ? 'block' : 'none';\n",
              "\n",
              "      async function convertToInteractive(key) {\n",
              "        const element = document.querySelector('#df-616747d9-a96b-4b07-b4b4-aa3cf76d6ff0');\n",
              "        const dataTable =\n",
              "          await google.colab.kernel.invokeFunction('convertToInteractive',\n",
              "                                                    [key], {});\n",
              "        if (!dataTable) return;\n",
              "\n",
              "        const docLinkHtml = 'Like what you see? Visit the ' +\n",
              "          '<a target=\"_blank\" href=https://colab.research.google.com/notebooks/data_table.ipynb>data table notebook</a>'\n",
              "          + ' to learn more about interactive tables.';\n",
              "        element.innerHTML = '';\n",
              "        dataTable['output_type'] = 'display_data';\n",
              "        await google.colab.output.renderOutput(dataTable, element);\n",
              "        const docLink = document.createElement('div');\n",
              "        docLink.innerHTML = docLinkHtml;\n",
              "        element.appendChild(docLink);\n",
              "      }\n",
              "    </script>\n",
              "  </div>\n",
              "\n",
              "\n",
              "<div id=\"df-cf022daf-5ba6-4723-b4b9-ce1e3e6b08c3\">\n",
              "  <button class=\"colab-df-quickchart\" onclick=\"quickchart('df-cf022daf-5ba6-4723-b4b9-ce1e3e6b08c3')\"\n",
              "            title=\"Suggest charts\"\n",
              "            style=\"display:none;\">\n",
              "\n",
              "<svg xmlns=\"http://www.w3.org/2000/svg\" height=\"24px\"viewBox=\"0 0 24 24\"\n",
              "     width=\"24px\">\n",
              "    <g>\n",
              "        <path d=\"M19 3H5c-1.1 0-2 .9-2 2v14c0 1.1.9 2 2 2h14c1.1 0 2-.9 2-2V5c0-1.1-.9-2-2-2zM9 17H7v-7h2v7zm4 0h-2V7h2v10zm4 0h-2v-4h2v4z\"/>\n",
              "    </g>\n",
              "</svg>\n",
              "  </button>\n",
              "\n",
              "<style>\n",
              "  .colab-df-quickchart {\n",
              "      --bg-color: #E8F0FE;\n",
              "      --fill-color: #1967D2;\n",
              "      --hover-bg-color: #E2EBFA;\n",
              "      --hover-fill-color: #174EA6;\n",
              "      --disabled-fill-color: #AAA;\n",
              "      --disabled-bg-color: #DDD;\n",
              "  }\n",
              "\n",
              "  [theme=dark] .colab-df-quickchart {\n",
              "      --bg-color: #3B4455;\n",
              "      --fill-color: #D2E3FC;\n",
              "      --hover-bg-color: #434B5C;\n",
              "      --hover-fill-color: #FFFFFF;\n",
              "      --disabled-bg-color: #3B4455;\n",
              "      --disabled-fill-color: #666;\n",
              "  }\n",
              "\n",
              "  .colab-df-quickchart {\n",
              "    background-color: var(--bg-color);\n",
              "    border: none;\n",
              "    border-radius: 50%;\n",
              "    cursor: pointer;\n",
              "    display: none;\n",
              "    fill: var(--fill-color);\n",
              "    height: 32px;\n",
              "    padding: 0;\n",
              "    width: 32px;\n",
              "  }\n",
              "\n",
              "  .colab-df-quickchart:hover {\n",
              "    background-color: var(--hover-bg-color);\n",
              "    box-shadow: 0 1px 2px rgba(60, 64, 67, 0.3), 0 1px 3px 1px rgba(60, 64, 67, 0.15);\n",
              "    fill: var(--button-hover-fill-color);\n",
              "  }\n",
              "\n",
              "  .colab-df-quickchart-complete:disabled,\n",
              "  .colab-df-quickchart-complete:disabled:hover {\n",
              "    background-color: var(--disabled-bg-color);\n",
              "    fill: var(--disabled-fill-color);\n",
              "    box-shadow: none;\n",
              "  }\n",
              "\n",
              "  .colab-df-spinner {\n",
              "    border: 2px solid var(--fill-color);\n",
              "    border-color: transparent;\n",
              "    border-bottom-color: var(--fill-color);\n",
              "    animation:\n",
              "      spin 1s steps(1) infinite;\n",
              "  }\n",
              "\n",
              "  @keyframes spin {\n",
              "    0% {\n",
              "      border-color: transparent;\n",
              "      border-bottom-color: var(--fill-color);\n",
              "      border-left-color: var(--fill-color);\n",
              "    }\n",
              "    20% {\n",
              "      border-color: transparent;\n",
              "      border-left-color: var(--fill-color);\n",
              "      border-top-color: var(--fill-color);\n",
              "    }\n",
              "    30% {\n",
              "      border-color: transparent;\n",
              "      border-left-color: var(--fill-color);\n",
              "      border-top-color: var(--fill-color);\n",
              "      border-right-color: var(--fill-color);\n",
              "    }\n",
              "    40% {\n",
              "      border-color: transparent;\n",
              "      border-right-color: var(--fill-color);\n",
              "      border-top-color: var(--fill-color);\n",
              "    }\n",
              "    60% {\n",
              "      border-color: transparent;\n",
              "      border-right-color: var(--fill-color);\n",
              "    }\n",
              "    80% {\n",
              "      border-color: transparent;\n",
              "      border-right-color: var(--fill-color);\n",
              "      border-bottom-color: var(--fill-color);\n",
              "    }\n",
              "    90% {\n",
              "      border-color: transparent;\n",
              "      border-bottom-color: var(--fill-color);\n",
              "    }\n",
              "  }\n",
              "</style>\n",
              "\n",
              "  <script>\n",
              "    async function quickchart(key) {\n",
              "      const quickchartButtonEl =\n",
              "        document.querySelector('#' + key + ' button');\n",
              "      quickchartButtonEl.disabled = true;  // To prevent multiple clicks.\n",
              "      quickchartButtonEl.classList.add('colab-df-spinner');\n",
              "      try {\n",
              "        const charts = await google.colab.kernel.invokeFunction(\n",
              "            'suggestCharts', [key], {});\n",
              "      } catch (error) {\n",
              "        console.error('Error during call to suggestCharts:', error);\n",
              "      }\n",
              "      quickchartButtonEl.classList.remove('colab-df-spinner');\n",
              "      quickchartButtonEl.classList.add('colab-df-quickchart-complete');\n",
              "    }\n",
              "    (() => {\n",
              "      let quickchartButtonEl =\n",
              "        document.querySelector('#df-cf022daf-5ba6-4723-b4b9-ce1e3e6b08c3 button');\n",
              "      quickchartButtonEl.style.display =\n",
              "        google.colab.kernel.accessAllowed ? 'block' : 'none';\n",
              "    })();\n",
              "  </script>\n",
              "</div>\n",
              "\n",
              "    </div>\n",
              "  </div>\n"
            ],
            "application/vnd.google.colaboratory.intrinsic+json": {
              "type": "dataframe",
              "variable_name": "df_vendas",
              "summary": "{\n  \"name\": \"df_vendas\",\n  \"rows\": 150,\n  \"fields\": [\n    {\n      \"column\": \"ID_Venda\",\n      \"properties\": {\n        \"dtype\": \"number\",\n        \"std\": 43,\n        \"min\": 220001,\n        \"max\": 220150,\n        \"num_unique_values\": 150,\n        \"samples\": [\n          220074,\n          220019,\n          220119\n        ],\n        \"semantic_type\": \"\",\n        \"description\": \"\"\n      }\n    },\n    {\n      \"column\": \"Data_Venda\",\n      \"properties\": {\n        \"dtype\": \"object\",\n        \"num_unique_values\": 129,\n        \"samples\": [\n          \"2024-07-13\",\n          \"2024-02-13\",\n          \"2024-02-11\"\n        ],\n        \"semantic_type\": \"\",\n        \"description\": \"\"\n      }\n    },\n    {\n      \"column\": \"ID_Cliente\",\n      \"properties\": {\n        \"dtype\": \"number\",\n        \"std\": 11,\n        \"min\": 550001,\n        \"max\": 550040,\n        \"num_unique_values\": 39,\n        \"samples\": [\n          550007,\n          550003,\n          550019\n        ],\n        \"semantic_type\": \"\",\n        \"description\": \"\"\n      }\n    },\n    {\n      \"column\": \"ID_Produto\",\n      \"properties\": {\n        \"dtype\": \"number\",\n        \"std\": 2,\n        \"min\": 330001,\n        \"max\": 330010,\n        \"num_unique_values\": 10,\n        \"samples\": [\n          330004,\n          330007,\n          330001\n        ],\n        \"semantic_type\": \"\",\n        \"description\": \"\"\n      }\n    },\n    {\n      \"column\": \"Marca\",\n      \"properties\": {\n        \"dtype\": \"category\",\n        \"num_unique_values\": 5,\n        \"samples\": [\n          \"GM\",\n          \"Volkswagen\",\n          \"Chevrolet\"\n        ],\n        \"semantic_type\": \"\",\n        \"description\": \"\"\n      }\n    },\n    {\n      \"column\": \"Modelo\",\n      \"properties\": {\n        \"dtype\": \"category\",\n        \"num_unique_values\": 9,\n        \"samples\": [\n          \"HB20\",\n          \"Onix Plus\",\n          \"Strada\"\n        ],\n        \"semantic_type\": \"\",\n        \"description\": \"\"\n      }\n    },\n    {\n      \"column\": \"ID_Filial\",\n      \"properties\": {\n        \"dtype\": \"number\",\n        \"std\": 1,\n        \"min\": 660001,\n        \"max\": 660004,\n        \"num_unique_values\": 4,\n        \"samples\": [\n          660004,\n          660003,\n          660002\n        ],\n        \"semantic_type\": \"\",\n        \"description\": \"\"\n      }\n    },\n    {\n      \"column\": \"ID_Regiao\",\n      \"properties\": {\n        \"dtype\": \"number\",\n        \"std\": 1,\n        \"min\": 88001,\n        \"max\": 88004,\n        \"num_unique_values\": 4,\n        \"samples\": [\n          88004,\n          88003,\n          88002\n        ],\n        \"semantic_type\": \"\",\n        \"description\": \"\"\n      }\n    },\n    {\n      \"column\": \"Quantidade\",\n      \"properties\": {\n        \"dtype\": \"number\",\n        \"std\": 0,\n        \"min\": 1,\n        \"max\": 3,\n        \"num_unique_values\": 3,\n        \"samples\": [\n          1,\n          3,\n          2\n        ],\n        \"semantic_type\": \"\",\n        \"description\": \"\"\n      }\n    },\n    {\n      \"column\": \"Valor_Unitario\",\n      \"properties\": {\n        \"dtype\": \"number\",\n        \"std\": 16463.462358846737,\n        \"min\": 61000.0,\n        \"max\": 114000.0,\n        \"num_unique_values\": 10,\n        \"samples\": [\n          90000.0,\n          87500.0,\n          75000.0\n        ],\n        \"semantic_type\": \"\",\n        \"description\": \"\"\n      }\n    },\n    {\n      \"column\": \"Valor_Total\",\n      \"properties\": {\n        \"dtype\": \"number\",\n        \"std\": 77198.02545550105,\n        \"min\": 61000.0,\n        \"max\": 342000.0,\n        \"num_unique_values\": 30,\n        \"samples\": [\n          156000.0,\n          234000.0,\n          150000.0\n        ],\n        \"semantic_type\": \"\",\n        \"description\": \"\"\n      }\n    }\n  ]\n}"
            }
          },
          "metadata": {},
          "execution_count": 129
        }
      ]
    },
    {
      "cell_type": "code",
      "source": [
        "with pd.ExcelWriter(\"dados_completos.xlsx\", engine=\"xlsxwriter\") as writer:\n",
        "    df_vendas.to_excel(writer, sheet_name=\"Vendas\", index=False)\n",
        "    df_clientes.to_excel(writer, sheet_name=\"Clientes\", index=False)\n",
        "    df_produtos.to_excel(writer, sheet_name=\"Produtos\", index=False)\n",
        "    df_modelos_carros.to_excel(writer, sheet_name=\"Modelos_Carros\", index=False)\n",
        "    df_generos.to_excel(writer, sheet_name=\"Generos\", index=False)\n",
        "    df_filiais.to_excel(writer, sheet_name=\"Filiais\", index=False)\n",
        "\n",
        "print(\"Arquivo 'dados_completos.xlsx' salvo com sucesso!\")"
      ],
      "metadata": {
        "colab": {
          "base_uri": "https://localhost:8080/"
        },
        "id": "XAKO_7wGxKjY",
        "outputId": "e7dde866-9849-412c-db3c-d178d8b1e2c4"
      },
      "execution_count": 130,
      "outputs": [
        {
          "output_type": "stream",
          "name": "stdout",
          "text": [
            "Arquivo 'dados_completos.xlsx' salvo com sucesso!\n"
          ]
        }
      ]
    },
    {
      "cell_type": "code",
      "source": [
        "files.download(\"dados_completos.xlsx\")"
      ],
      "metadata": {
        "colab": {
          "base_uri": "https://localhost:8080/",
          "height": 17
        },
        "id": "fYX_Rh8WqncU",
        "outputId": "3d69a3ab-e5b9-4972-9621-210d0a1305d3"
      },
      "execution_count": 131,
      "outputs": [
        {
          "output_type": "display_data",
          "data": {
            "text/plain": [
              "<IPython.core.display.Javascript object>"
            ],
            "application/javascript": [
              "\n",
              "    async function download(id, filename, size) {\n",
              "      if (!google.colab.kernel.accessAllowed) {\n",
              "        return;\n",
              "      }\n",
              "      const div = document.createElement('div');\n",
              "      const label = document.createElement('label');\n",
              "      label.textContent = `Downloading \"${filename}\": `;\n",
              "      div.appendChild(label);\n",
              "      const progress = document.createElement('progress');\n",
              "      progress.max = size;\n",
              "      div.appendChild(progress);\n",
              "      document.body.appendChild(div);\n",
              "\n",
              "      const buffers = [];\n",
              "      let downloaded = 0;\n",
              "\n",
              "      const channel = await google.colab.kernel.comms.open(id);\n",
              "      // Send a message to notify the kernel that we're ready.\n",
              "      channel.send({})\n",
              "\n",
              "      for await (const message of channel.messages) {\n",
              "        // Send a message to notify the kernel that we're ready.\n",
              "        channel.send({})\n",
              "        if (message.buffers) {\n",
              "          for (const buffer of message.buffers) {\n",
              "            buffers.push(buffer);\n",
              "            downloaded += buffer.byteLength;\n",
              "            progress.value = downloaded;\n",
              "          }\n",
              "        }\n",
              "      }\n",
              "      const blob = new Blob(buffers, {type: 'application/binary'});\n",
              "      const a = document.createElement('a');\n",
              "      a.href = window.URL.createObjectURL(blob);\n",
              "      a.download = filename;\n",
              "      div.appendChild(a);\n",
              "      a.click();\n",
              "      div.remove();\n",
              "    }\n",
              "  "
            ]
          },
          "metadata": {}
        },
        {
          "output_type": "display_data",
          "data": {
            "text/plain": [
              "<IPython.core.display.Javascript object>"
            ],
            "application/javascript": [
              "download(\"download_57cf823e-8e1b-43c3-bd98-e6b414ac603f\", \"dados_completos.xlsx\", 17570)"
            ]
          },
          "metadata": {}
        }
      ]
    }
  ]
}